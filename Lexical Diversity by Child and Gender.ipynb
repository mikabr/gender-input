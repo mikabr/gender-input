{
 "cells": [
  {
   "cell_type": "code",
   "execution_count": 3,
   "metadata": {
    "collapsed": false
   },
   "outputs": [],
   "source": [
    "options(stringsAsFactors = FALSE)"
   ]
  },
  {
   "cell_type": "code",
   "execution_count": 2,
   "metadata": {
    "collapsed": false
   },
   "outputs": [],
   "source": [
    "#install.packages(c('quanteda', 'tm', 'ggplot2', 'koRpus', 'RMySQL', 'plyr', 'dplyr'), repos = \"http://cran.rstudio.com/\")"
   ]
  },
  {
   "cell_type": "code",
   "execution_count": 41,
   "metadata": {
    "collapsed": false
   },
   "outputs": [],
   "source": [
    "library('grid')\n",
    "library('gridExtra')"
   ]
  },
  {
   "cell_type": "code",
   "execution_count": 42,
   "metadata": {
    "collapsed": false
   },
   "outputs": [],
   "source": [
    "source('config.R')\n",
    "library('lattice')\n",
    "library('tm')\n",
    "library('quanteda')\n",
    "library('koRpus')\n",
    "library('RMySQL')\n",
    "library('ggplot2')\n",
    "library('parallel')\n",
    "library('plyr')\n",
    "library('dplyr')\n",
    "library('grid')\n",
    "library('gridExtra')\n"
   ]
  },
  {
   "cell_type": "code",
   "execution_count": 43,
   "metadata": {
    "collapsed": false
   },
   "outputs": [],
   "source": [
    "#connect R to mysql\n",
    "childes_db = dbConnect(MySQL(), user=config[['username']], password=config[['password']], dbname=config[['dbasename']], host=config[['host']])"
   ]
  },
  {
   "cell_type": "code",
   "execution_count": 38,
   "metadata": {
    "collapsed": false
   },
   "outputs": [],
   "source": [
    "#dbListTables(childes_db)"
   ]
  },
  {
   "cell_type": "code",
   "execution_count": 44,
   "metadata": {
    "collapsed": false
   },
   "outputs": [],
   "source": [
    "all = dbGetQuery(childes_db, \"select * from words where speaker = 'CHI' AND age != 'NA' \")"
   ]
  },
  {
   "cell_type": "code",
   "execution_count": 45,
   "metadata": {
    "collapsed": false
   },
   "outputs": [],
   "source": [
    "n.cores = detectCores()"
   ]
  },
  {
   "cell_type": "code",
   "execution_count": null,
   "metadata": {
    "collapsed": false
   },
   "outputs": [],
   "source": [
    "names(all)"
   ]
  },
  {
   "cell_type": "code",
   "execution_count": 12,
   "metadata": {
    "collapsed": false
   },
   "outputs": [],
   "source": [
    "#assigning child names\n",
    "all$child = 0\n",
    "getchi = split(all, all$participants)\n",
    "\n",
    "for (elem in 1:length(getchi)){\n",
    "  chi_name = unlist(strsplit(names(getchi)[elem], \" \"))[2]\n",
    "  all$child[all$participants == names(getchi)[elem]] = chi_name\n",
    "}\n",
    "\n",
    "#cleaning up child names before adding tokens\n",
    "all$child[all$child == \"Target\"] = \"Eric\"\n",
    "all$child[all$child == \"Target_Child\"] = \"Gia\"\n",
    "all$child[all$child == \"Mother\"] = \"Nina\"\n",
    "\n",
    "#removing Gia because CHI only says 902 tokens, which is less than the 1024 tokens needed for a single lexical diversity metric\n",
    "all = all[all$child != \"Gia\",]"
   ]
  },
  {
   "cell_type": "code",
   "execution_count": 10,
   "metadata": {
    "collapsed": false
   },
   "outputs": [
    {
     "data": {
      "text/html": [
       "<ol class=list-inline>\n",
       "\t<li>'gloss'</li>\n",
       "\t<li>'mor'</li>\n",
       "\t<li>'attags'</li>\n",
       "\t<li>'speaker'</li>\n",
       "\t<li>'act'</li>\n",
       "\t<li>'gpx'</li>\n",
       "\t<li>'sit'</li>\n",
       "\t<li>'com'</li>\n",
       "\t<li>'par'</li>\n",
       "\t<li>'filename'</li>\n",
       "\t<li>'participants'</li>\n",
       "\t<li>'date'</li>\n",
       "\t<li>'language'</li>\n",
       "\t<li>'corpus'</li>\n",
       "\t<li>'age'</li>\n",
       "\t<li>'gender'</li>\n",
       "\t<li>'utt.number'</li>\n",
       "\t<li>'sentgloss'</li>\n",
       "\t<li>'sentmor'</li>\n",
       "\t<li>'add'</li>\n",
       "\t<li>'alt'</li>\n",
       "\t<li>'int'</li>\n",
       "\t<li>'spa'</li>\n",
       "\t<li>'err'</li>\n",
       "\t<li>'eng'</li>\n",
       "\t<li>'child'</li>\n",
       "</ol>\n"
      ],
      "text/latex": [
       "\\begin{enumerate*}\n",
       "\\item 'gloss'\n",
       "\\item 'mor'\n",
       "\\item 'attags'\n",
       "\\item 'speaker'\n",
       "\\item 'act'\n",
       "\\item 'gpx'\n",
       "\\item 'sit'\n",
       "\\item 'com'\n",
       "\\item 'par'\n",
       "\\item 'filename'\n",
       "\\item 'participants'\n",
       "\\item 'date'\n",
       "\\item 'language'\n",
       "\\item 'corpus'\n",
       "\\item 'age'\n",
       "\\item 'gender'\n",
       "\\item 'utt.number'\n",
       "\\item 'sentgloss'\n",
       "\\item 'sentmor'\n",
       "\\item 'add'\n",
       "\\item 'alt'\n",
       "\\item 'int'\n",
       "\\item 'spa'\n",
       "\\item 'err'\n",
       "\\item 'eng'\n",
       "\\item 'child'\n",
       "\\end{enumerate*}\n"
      ],
      "text/markdown": [
       "1. 'gloss'\n",
       "2. 'mor'\n",
       "3. 'attags'\n",
       "4. 'speaker'\n",
       "5. 'act'\n",
       "6. 'gpx'\n",
       "7. 'sit'\n",
       "8. 'com'\n",
       "9. 'par'\n",
       "10. 'filename'\n",
       "11. 'participants'\n",
       "12. 'date'\n",
       "13. 'language'\n",
       "14. 'corpus'\n",
       "15. 'age'\n",
       "16. 'gender'\n",
       "17. 'utt.number'\n",
       "18. 'sentgloss'\n",
       "19. 'sentmor'\n",
       "20. 'add'\n",
       "21. 'alt'\n",
       "22. 'int'\n",
       "23. 'spa'\n",
       "24. 'err'\n",
       "25. 'eng'\n",
       "26. 'child'\n",
       "\n",
       "\n"
      ],
      "text/plain": [
       " [1] \"gloss\"        \"mor\"          \"attags\"       \"speaker\"      \"act\"         \n",
       " [6] \"gpx\"          \"sit\"          \"com\"          \"par\"          \"filename\"    \n",
       "[11] \"participants\" \"date\"         \"language\"     \"corpus\"       \"age\"         \n",
       "[16] \"gender\"       \"utt.number\"   \"sentgloss\"    \"sentmor\"      \"add\"         \n",
       "[21] \"alt\"          \"int\"          \"spa\"          \"err\"          \"eng\"         \n",
       "[26] \"child\"       "
      ]
     },
     "execution_count": 10,
     "metadata": {},
     "output_type": "execute_result"
    }
   ],
   "source": [
    "names(all)"
   ]
  },
  {
   "cell_type": "code",
   "execution_count": 13,
   "metadata": {
    "collapsed": true
   },
   "outputs": [],
   "source": [
    "#assinging index for breaking up into 1024 tokens each\n",
    "all$chi_index = 0\n",
    "\n",
    "for (elem in unique(all$child)){\n",
    "all$chi_index[all$child == elem] = 1:length(all$chi_index[all$child == elem])\n",
    "}"
   ]
  },
  {
   "cell_type": "code",
   "execution_count": 14,
   "metadata": {
    "collapsed": true
   },
   "outputs": [],
   "source": [
    "#gets various age metrics for the graph\n",
    "splitchi = split(all, all$child)\n",
    "#checks dimensions of each child\n",
    "dimchi = lapply(splitchi, dim)"
   ]
  },
  {
   "cell_type": "code",
   "execution_count": 15,
   "metadata": {
    "collapsed": true
   },
   "outputs": [],
   "source": [
    "max_age = lapply(splitchi, function (x) max(x$age, na.rm = TRUE))\n",
    "median_age = lapply(splitchi, function (x) median(x$age, na.rm = TRUE))\n",
    "min_age = lapply(splitchi, function (x) min(x$age, na.rm = TRUE))\n",
    "mean_age = lapply(splitchi, function (x) mean(x$age, na.rm = TRUE))\n",
    "allchigraph = data.frame(\"child\" = names(mean_age), \n",
    "           \"max_age\" = unlist(max_age), \n",
    "           \"min_age\" = unlist(min_age), \n",
    "           \"median_age\" = unlist(median_age), \n",
    "           \"mean_age\" = unlist(mean_age))"
   ]
  },
  {
   "cell_type": "code",
   "execution_count": 16,
   "metadata": {
    "collapsed": true
   },
   "outputs": [],
   "source": [
    "childnames = unique(allchigraph$child)"
   ]
  },
  {
   "cell_type": "code",
   "execution_count": 17,
   "metadata": {
    "collapsed": false
   },
   "outputs": [],
   "source": [
    "##############Compute lexical diversity of Uber Index, Yule's I, and MTLD by child#################\n",
    "#returns a list of dataframes\n",
    "\n",
    "get_tok_set = function(child_name){\n",
    "    chi_rows = all[all$child == child_name,]\n",
    "    tot_tok = nrow(chi_rows)    \n",
    "    chi_rows = chi_rows[chi_rows$chi_index %in% 1:(tot_tok - tot_tok%%512),]\n",
    "    tot_tok = nrow(chi_rows)    \n",
    "    chi_rows$tok_grp = sort(rep(1:(tot_tok/512), times = 512))\n",
    "    tok_512 = split(chi_rows, factor(chi_rows$tok_grp))\n",
    "    tok_1024 = lapply(1:(length(tok_512)-1), function(x) rbind(tok_512[[x]], tok_512[[x+1]]))\n",
    "    names(tok_1024) = unlist(lapply(1:length(tok_1024), function(x) median(tok_1024[[x]]$age, na.rm = TRUE)))\n",
    "    return(tok_1024)\n",
    "}\n",
    "\n"
   ]
  },
  {
   "cell_type": "code",
   "execution_count": 19,
   "metadata": {
    "collapsed": true
   },
   "outputs": [],
   "source": [
    "tagging_text = function(child_rows){\n",
    "    tokens = as.character(child_rows$gloss)\n",
    "    tokens = paste(tokens, collapse = \" \")\n",
    "    tagged.text <- tokenize(tokens, format=\"obj\", lang=\"en\")\n",
    "    return(tagged.text)\n",
    "}\n"
   ]
  },
  {
   "cell_type": "code",
   "execution_count": 20,
   "metadata": {
    "collapsed": true
   },
   "outputs": [],
   "source": [
    "compute_inv_K = function(tagged_text){\n",
    "    return(1/K.ld(tagged_text, detailed=FALSE, char=c(), quiet=TRUE)@K.ld)\n",
    "}\n",
    "                      "
   ]
  },
  {
   "cell_type": "code",
   "execution_count": 21,
   "metadata": {
    "collapsed": true
   },
   "outputs": [],
   "source": [
    "compute_U = function(child_rows){\n",
    "    tokens = as.character(child_rows$gloss)\n",
    "    tokens = paste(tokens, collapse = \" \")\n",
    "    chi_dfm = dfm(tokens)\n",
    "    chi_lexdiv = unname(lexdiv(x = chi_dfm, measure = \"U\"))\n",
    "    return(chi_lexdiv)\n",
    " }                      "
   ]
  },
  {
   "cell_type": "code",
   "execution_count": 22,
   "metadata": {
    "collapsed": true
   },
   "outputs": [],
   "source": [
    "compute_MTLD = function(tagged_text){\n",
    "      return(MTLD(tagged_text)@MTLD$MTLD)\n",
    "}\n"
   ]
  },
  {
   "cell_type": "code",
   "execution_count": 23,
   "metadata": {
    "collapsed": false
   },
   "outputs": [],
   "source": [
    "childnames = unique(all$child)\n",
    "ld_metric_1024 = function(tok_1024){#tok_1024 is a dataframe with 1024 rows\n",
    "    U_LD = compute_U(tok_1024)\n",
    "    tt = tagging_text(tok_1024)\n",
    "    inv_K_LD = compute_inv_K(tt)\n",
    "    MTLD_LD = compute_MTLD(tt)\n",
    "    med_age = median(tok_1024$age, na.rm = TRUE)\n",
    "    return(data.frame(med_age, U_LD, inv_K_LD, MTLD_LD))\n",
    "}\n",
    "                    "
   ]
  },
  {
   "cell_type": "code",
   "execution_count": 24,
   "metadata": {
    "collapsed": false
   },
   "outputs": [],
   "source": [
    "process_one_child = function(child_name){\n",
    "    pw_results = lapply(get_tok_set(child_name = child_name), ld_metric_1024)\n",
    "    pw_results_df = do.call(\"rbind\", pw_results)\n",
    "    return(pw_results_df)\n",
    "}\n"
   ]
  },
  {
   "cell_type": "code",
   "execution_count": null,
   "metadata": {
    "collapsed": false
   },
   "outputs": [],
   "source": [
    "#allchiLD = mclapply(as.character(childnames), process_one_child, mc.cores=detectCores())\n",
    "allchiLD = lapply(as.character(childnames), process_one_child)\n"
   ]
  },
  {
   "cell_type": "code",
   "execution_count": null,
   "metadata": {
    "collapsed": false
   },
   "outputs": [],
   "source": [
    "names(allchiLD) = childnames"
   ]
  },
  {
   "cell_type": "code",
   "execution_count": null,
   "metadata": {
    "collapsed": false
   },
   "outputs": [],
   "source": [
    "allchiLD[[1]]"
   ]
  },
  {
   "cell_type": "code",
   "execution_count": null,
   "metadata": {
    "collapsed": false
   },
   "outputs": [],
   "source": [
    "LDplotfunction = function(child_name, LD){\n",
    "    if(LD == \"U_LD\"){\n",
    "        y.text = \"Uber\"\n",
    "    }\n",
    "    if(LD == \"inv_K_LD\"){\n",
    "        y.text = \"Inverse K\"\n",
    "    }\n",
    "    if(LD == \"MTLD_LD\"){\n",
    "        y.text = \"MTLD\"\n",
    "    }\n",
    "    return(ggplot(data = allchiLD[[child_name]], aes_string(x = \"med_age\", y = LD)) + \n",
    "geom_smooth(fill = NA, size = 1) + labs(x = \"Age (days)\", y = paste(c(y.text,\"Lexical Diversity\"), collapse = \" \"), \n",
    "                                                    title = child_name))}"
   ]
  },
  {
   "cell_type": "code",
   "execution_count": null,
   "metadata": {
    "collapsed": false
   },
   "outputs": [],
   "source": [
    "allchiLD[['Eric']] = NULL\n",
    "#Eric does not have enough observations for a loess curve\n",
    "allchiLD[['Naima']] = allchiLD[['Naima']][(!(is.na(allchiLD[['Naima']]$med_age))),]"
   ]
  },
  {
   "cell_type": "code",
   "execution_count": null,
   "metadata": {
    "collapsed": false
   },
   "outputs": [],
   "source": [
    "Uplotlist = lapply(names(allchiLD), function(x) LDplotfunction(x,\"U_LD\"))\n",
    "Kplotlist = lapply(names(allchiLD), function(x) LDplotfunction(x,\"inv_K_LD\"))\n",
    "MTLDplotlist = lapply(names(allchiLD), function(x) LDplotfunction(x,\"MTLD_LD\"))"
   ]
  },
  {
   "cell_type": "code",
   "execution_count": null,
   "metadata": {
    "collapsed": false
   },
   "outputs": [],
   "source": [
    "#plot all graphs of the same type together\n",
    "#pdf(file = \"UberLexDivDevChi.pdf\", width = 28, height = 18)\n",
    "Uplotall = do.call('grid.arrange', c(Uplotlist, list(ncol=4)))\n",
    "#grid.arrange(Uplotall)\n",
    "#dev.off()\n",
    "#pdf(file = \"YulesKLexDivDevChi.pdf\", width = 28, height = 18)\n",
    "Kplotall = do.call(grid.arrange, c(Kplotlist, list(ncol=4)))\n",
    "#grid.arrange(Kplotall)\n",
    "#dev.off()\n",
    "#pdf(file = \"MTLDLexDivDevChi.pdf\", width = 28, height = 18)\n",
    "MTLDplotall = do.call(grid.arrange, c(MTLDplotlist, list(ncol=4)))\n",
    "#grid.arrange(MTLDplotall)\n",
    "#dev.off()"
   ]
  },
  {
   "cell_type": "code",
   "execution_count": null,
   "metadata": {
    "collapsed": false
   },
   "outputs": [],
   "source": [
    "namevec = c()\n",
    "for(elem in 1:length(names(allchiLD))){\n",
    "  namevec = c(namevec, rep(names(allchiLD)[elem], times = unname(sapply(allchiLD, dim)[1,])[elem]))  \n",
    "}"
   ]
  },
  {
   "cell_type": "code",
   "execution_count": null,
   "metadata": {
    "collapsed": true
   },
   "outputs": [],
   "source": [
    "all_chiLD_df = do.call(\"rbind\", allchiLD)"
   ]
  },
  {
   "cell_type": "code",
   "execution_count": null,
   "metadata": {
    "collapsed": true
   },
   "outputs": [],
   "source": [
    "all_chiLD_df$child = namevec\n",
    "all_chiLD_df$gender = 0\n",
    "all_chiLD_df$gender[all_chiLD_df$child %in% c(\"Nina\", \"Lily\", \"Naima\", \"Violet\", \"Eve\", \"Sarah\", \"Naomi\")] = \"female\"\n",
    "all_chiLD_df$gender[all_chiLD_df$child %in% c(\"Eric\", \"Peter\", \"Alex\", \"Ethan\", \"William\", \"Adam\", \"Abe\")] = \"male\""
   ]
  },
  {
   "cell_type": "code",
   "execution_count": null,
   "metadata": {
    "collapsed": false
   },
   "outputs": [],
   "source": [
    "#plot generated in meeting on 3/9/16; shows Uber LD over time by gender\n",
    "ggplot(all_chiLD_df, aes(x = med_age, y = U_LD)) + geom_point(aes(colour = gender)) + \n",
    "stat_smooth(aes(colour = gender), span = 0.1, formula = y ~ poly(x, 3), method = \"gam\")"
   ]
  },
  {
   "cell_type": "code",
   "execution_count": null,
   "metadata": {
    "collapsed": false
   },
   "outputs": [],
   "source": [
    "#plot generated in meeting on 3/9/16; shows Uber LD over time by gender\n",
    "ggplot(all_chiLD_df, aes(x = med_age, y = inv_K_LD)) + geom_point(aes(colour = gender)) + \n",
    "stat_smooth(aes(colour = gender), span = 0.1, formula = y ~ poly(x, 3), method = \"gam\")"
   ]
  },
  {
   "cell_type": "code",
   "execution_count": null,
   "metadata": {
    "collapsed": false
   },
   "outputs": [],
   "source": [
    "#plot generated in meeting on 3/9/16; shows Uber LD over time by gender\n",
    "ggplot(all_chiLD_df, aes(x = med_age, y = MTLD_LD)) + geom_point(aes(colour = gender)) + \n",
    "stat_smooth(aes(colour = gender), span = 0.1, formula = y ~ poly(x, 3), method = \"gam\")"
   ]
  }
 ],
 "metadata": {
  "kernelspec": {
   "display_name": "R",
   "language": "R",
   "name": "ir"
  },
  "language_info": {
   "codemirror_mode": "r",
   "file_extension": ".r",
   "mimetype": "text/x-r-source",
   "name": "R",
   "pygments_lexer": "r",
   "version": "3.2.3"
  }
 },
 "nbformat": 4,
 "nbformat_minor": 0
}
